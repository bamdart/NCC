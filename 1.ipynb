{
 "cells": [
  {
   "cell_type": "code",
   "execution_count": 8,
   "metadata": {
    "collapsed": false
   },
   "outputs": [
    {
     "name": "stdout",
     "output_type": "stream",
     "text": [
      "5\n",
      "5\n",
      "5\n"
     ]
    }
   ],
   "source": [
    "print(5)\n",
    "print('5')\n",
    "print(\"5\")"
   ]
  },
  {
   "cell_type": "code",
   "execution_count": 9,
   "metadata": {
    "collapsed": false
   },
   "outputs": [
    {
     "name": "stdout",
     "output_type": "stream",
     "text": [
      "20\n",
      "a\n"
     ]
    }
   ],
   "source": [
    "a = 20\n",
    "print(a)\n",
    "print('a')"
   ]
  },
  {
   "cell_type": "code",
   "execution_count": 3,
   "metadata": {
    "collapsed": false
   },
   "outputs": [
    {
     "name": "stdout",
     "output_type": "stream",
     "text": [
      "10\n",
      "0\n",
      "25\n",
      "1.6666666666666667\n",
      "1\n",
      "2\n",
      "3125\n"
     ]
    }
   ],
   "source": [
    "print(5+5)\n",
    "print(5-5)\n",
    "print(5*5)\n",
    "print(5/3)\n",
    "print(5//3)\n",
    "print(5%3)\n",
    "print(5**5)"
   ]
  },
  {
   "cell_type": "code",
   "execution_count": 5,
   "metadata": {
    "collapsed": false,
    "scrolled": true
   },
   "outputs": [
    {
     "name": "stdout",
     "output_type": "stream",
     "text": [
      "<class 'int'>\n",
      "<class 'float'>\n",
      "<class 'bool'>\n",
      "<class 'str'>\n"
     ]
    }
   ],
   "source": [
    "interge = 50\n",
    "float_type = 20.5\n",
    "bool_type = True\n",
    "string = \"50\"\n",
    "\n",
    "print(type(interge))\n",
    "print(type(float_type))\n",
    "print(type(bool_type))\n",
    "print(type(string))"
   ]
  },
  {
   "cell_type": "code",
   "execution_count": 20,
   "metadata": {
    "collapsed": false
   },
   "outputs": [
    {
     "name": "stdout",
     "output_type": "stream",
     "text": [
      "[1, 2, 3, 4, 5, 6, 7, 8, 9, 0]\n",
      "[1, 2, 3, 4, 5, 6, 7, 8, 9, 0, 11]\n",
      "[1, 2, 3, 5, 6, 7, 8, 9, 0, 11]\n",
      "[1, 2, 3, 5, 6, 7, 8, 9, 11]\n",
      "[1, 2, 3, 5, 6, 7, 8, 9, 11, '5']\n"
     ]
    }
   ],
   "source": [
    "list_ex = [1,2,3,4,5,6,7,8,9,0]\n",
    "\n",
    "print(list_ex)\n",
    "\n",
    "list_ex.insert(11,11) #insert(index, obj)\n",
    "print(list_ex)\n",
    "\n",
    "del list_ex [3]\n",
    "print(list_ex)\n",
    "\n",
    "list_ex.remove(0)\n",
    "print(list_ex)\n",
    "\n",
    "list_ex.append(\"5\")\n",
    "print(list_ex)"
   ]
  },
  {
   "cell_type": "code",
   "execution_count": 22,
   "metadata": {
    "collapsed": false
   },
   "outputs": [
    {
     "name": "stdout",
     "output_type": "stream",
     "text": [
      "(1, 2, 3, 4, 5)\n",
      "(6, 7, 8, 9, 0)\n"
     ]
    }
   ],
   "source": [
    "tuple_ex = 1,2,3,4,5\n",
    "print(tuple_ex)\n",
    "tuple_ex = (6,7,8,9,0)\n",
    "print(tuple_ex)"
   ]
  },
  {
   "cell_type": "code",
   "execution_count": 30,
   "metadata": {
    "collapsed": false
   },
   "outputs": [
    {
     "name": "stdout",
     "output_type": "stream",
     "text": [
      "20\n",
      "50\n",
      "100\n",
      "amazing\n"
     ]
    }
   ],
   "source": [
    "dict_ex = {\n",
    "    \"water\":20,\n",
    "    \"chocolate\":50,\n",
    "    \"umbrella\":100,\n",
    "    \"magic\":\"amazing\"\n",
    "} # key:value\n",
    "\n",
    "print(dict_ex[\"water\"])\n",
    "print(dict_ex[\"chocolate\"])\n",
    "print(dict_ex[\"umbrella\"])\n",
    "print(dict_ex[\"magic\"])"
   ]
  },
  {
   "cell_type": "code",
   "execution_count": 38,
   "metadata": {
    "collapsed": false
   },
   "outputs": [
    {
     "name": "stdout",
     "output_type": "stream",
     "text": [
      "{'water': 20, 'umbrella': 200, 'magic': 'amazing', 'DVD': 300, 'chocolate': 50}\n",
      "{'water': 20, 'umbrella': 200, 'DVD': 300, 'chocolate': 50}\n",
      "{}\n",
      "False\n",
      "True\n"
     ]
    }
   ],
   "source": [
    "dict_ex = {\n",
    "    \"water\":20,\n",
    "    \"chocolate\":50,\n",
    "    \"umbrella\":100,\n",
    "    \"magic\":\"amazing\"\n",
    "} # key:value\n",
    "\n",
    "second = {\n",
    "    'umbrella':200,\n",
    "    'DVD':300\n",
    "}\n",
    "\n",
    "dict_ex.update(second)\n",
    "print(dict_ex)\n",
    "\n",
    "del dict_ex[\"magic\"]\n",
    "print(dict_ex)\n",
    "\n",
    "dict_ex.clear()\n",
    "print(dict_ex)\n",
    "\n",
    "dict_ex.update(second)\n",
    "print('water' in dict_ex)\n",
    "print('umbrella' in dict_ex)"
   ]
  },
  {
   "cell_type": "code",
   "execution_count": null,
   "metadata": {
    "collapsed": false
   },
   "outputs": [],
   "source": [
    "weight = float(input(\"請輸入體重 : \"))\n",
    "height = float(input(\"請輸入身高 : \"))\n",
    "\n",
    "print(\"BMI = \" + str(weight/(height/100)/(height/100)))"
   ]
  },
  {
   "cell_type": "code",
   "execution_count": null,
   "metadata": {
    "collapsed": true
   },
   "outputs": [],
   "source": [
    "False,\n",
    "True,\n",
    "class,\n",
    "return,\n",
    "None,\n",
    "continue,\n",
    "for,\n",
    "try,\n",
    "def,\n",
    "from,\n",
    "while,\n",
    "break,\n",
    "except"
   ]
  }
 ],
 "metadata": {
  "anaconda-cloud": {},
  "kernelspec": {
   "display_name": "Python [default]",
   "language": "python",
   "name": "python3"
  },
  "language_info": {
   "codemirror_mode": {
    "name": "ipython",
    "version": 3
   },
   "file_extension": ".py",
   "mimetype": "text/x-python",
   "name": "python",
   "nbconvert_exporter": "python",
   "pygments_lexer": "ipython3",
   "version": "3.5.2"
  }
 },
 "nbformat": 4,
 "nbformat_minor": 1
}
